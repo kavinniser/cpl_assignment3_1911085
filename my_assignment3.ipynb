{
 "cells": [
  {
   "cell_type": "code",
   "execution_count": 2,
   "id": "c9a1068b",
   "metadata": {},
   "outputs": [],
   "source": [
    "%run MyLibrary.ipynb "
   ]
  },
  {
   "cell_type": "code",
   "execution_count": 3,
   "id": "90588f43",
   "metadata": {},
   "outputs": [],
   "source": [
    "# Function to swap row1 and row2\n",
    "\n",
    "def swap_rows(Ab,row1,row2):\n",
    "    temp = Ab[row1]\n",
    "    Ab[row1] = Ab[row2]\n",
    "    Ab[row2] = temp\n",
    "    return Ab\n",
    "\n",
    "\n",
    "# Function for partial pivoting\n",
    "\n",
    "def partial_pivot(Ab,m,nrows):\n",
    "    pivot = Ab[m][m]    # declare the pivot\n",
    "    if (Ab[m][m] != 0):\n",
    "        return Ab    # return if partial pivot is not required\n",
    "    else:\n",
    "        for r in range(m+1,nrows):\n",
    "            # check for non-zero pivot and swap rows with it\n",
    "            if Ab[r][m] != 0:\n",
    "                pivot = Ab[r][m]\n",
    "                Ab=swap_rows(Ab,m,r)\n",
    "                return Ab\n",
    "            else:\n",
    "                r+=1\n",
    "    if (pivot==0):    # if there is no unique solution \n",
    "        return None\n",
    "\n",
    "\n",
    "# Gauss Jordan Elimiination method\n",
    "\n",
    "def gauss_jordan(Ab,nrows,ncols):\n",
    "    det=1\n",
    "    r=0\n",
    "    # does partial pivoting\n",
    "    Ab = partial_pivot(Ab,r,nrows)\n",
    "    for r in range(0,nrows):\n",
    "        # if there is no solution \n",
    "        if Ab==None:\n",
    "            return Ab\n",
    "        else:\n",
    "            # Changes the diagonal elements to unity\n",
    "            fact=Ab[r][r]\n",
    "            det=det*fact # calculates the determinant\n",
    "            for c in range(r,ncols):\n",
    "                Ab[r][c]*=1/fact\n",
    "            # makes all elements other than diagonal elements to zero\n",
    "            for r1 in range(0,nrows):\n",
    "                # does not change if it is already done\n",
    "                if (r1==r or Ab[r1][r]==0):\n",
    "                    r1+=1\n",
    "                else:\n",
    "                    factor = Ab[r1][r]\n",
    "                    for c in range(r,ncols):\n",
    "                        Ab[r1][c]-= factor * Ab[r][c]\n",
    "    return Ab, det\n",
    "\n",
    "\n",
    "# Function to extract inverse from augmented matrix\n",
    "\n",
    "def get_inv(A,n):\n",
    "    r=len(A)\n",
    "    c=len(A[0])\n",
    "    M=[[0 for j in range(n)] for i in range(n)]\n",
    "    for i in range(r):\n",
    "        for j in range(n,c):\n",
    "            M[i][j-n]=A[i][j]\n",
    "    return M\n",
    "\n",
    "\n",
    "# Function to round off all elements of a matrix\n",
    "\n",
    "def round_matrix(M,r):\n",
    "    for i in range(len(M)):\n",
    "        for j in range(len(M[0])):\n",
    "            M[i][j]=round(M[i][j],r)\n",
    "    return M"
   ]
  },
  {
   "cell_type": "code",
   "execution_count": 4,
   "id": "a1a61df2",
   "metadata": {},
   "outputs": [
    {
     "name": "stdout",
     "output_type": "stream",
     "text": [
      "The augmented matrix is: \n",
      "\n",
      "1    1    1    1    13    \n",
      "\n",
      "2    3    0    -1    -1    \n",
      "\n",
      "-3    4    1    2    10    \n",
      "\n",
      "1    2    -1    1    1    \n",
      "\n",
      "\n",
      "Solutions are : \n",
      "2.0\n",
      "-0.0\n",
      "6.0\n",
      "5.0\n"
     ]
    }
   ],
   "source": [
    "A = [[1,1,1,1, 13],[2,3,0,-1, -1], [-3,4,1,2, 10],[1,2,-1,1, 1]]\n",
    "print(\"The augmented matrix is: \")\n",
    "print_matrix(A,4,5)\n",
    "GJ, d=gauss_jordan(A,4,5)\n",
    "if GJ!=None:\n",
    "    M=round_matrix(A,2)\n",
    "    print(\"Solutions are : \")\n",
    "    for i in range(4):\n",
    "        print(M[i][4])\n",
    "else:\n",
    "    print(\"No unique solution exists.\")"
   ]
  },
  {
   "cell_type": "code",
   "execution_count": 5,
   "id": "3a39ee31",
   "metadata": {},
   "outputs": [
    {
     "name": "stdout",
     "output_type": "stream",
     "text": [
      "The augmented matrix is: \n",
      "\n",
      "0    2    -3    -1    \n",
      "\n",
      "1    0    1    0    \n",
      "\n",
      "1    -1    0    3    \n",
      "\n",
      "\n",
      "Solutions are : \n",
      "1.0\n",
      "-2.0\n",
      "-1.0\n"
     ]
    }
   ],
   "source": [
    "B = [[0,2,-3,-1],[1,0,1,0],[1,-1,0,3]]\n",
    "print(\"The augmented matrix is: \")\n",
    "print_matrix(B,3,4)\n",
    "GJ, d=gauss_jordan(B,3,4)\n",
    "if GJ!=None:\n",
    "    print(\"Solutions are : \")\n",
    "    for i in range(3):\n",
    "        print(B[i][3])\n",
    "else:\n",
    "    print(\"No unique solution exists.\")"
   ]
  },
  {
   "cell_type": "code",
   "execution_count": 6,
   "id": "c14d535e",
   "metadata": {},
   "outputs": [
    {
     "name": "stdout",
     "output_type": "stream",
     "text": [
      "The augmented matrix is: \n",
      "\n",
      "0    2    1    1    0    0    \n",
      "\n",
      "4    0    1    0    1    0    \n",
      "\n",
      "-1    2    0    0    0    1    \n",
      "\n",
      "\n",
      "The inverse matrix is: \n",
      "\n",
      "-0.33    0.33    0.33    \n",
      "\n",
      "-0.17    0.17    0.67    \n",
      "\n",
      "1.33    -0.33    -1.33    \n",
      "\n",
      "\n",
      "Verification: \n",
      "\n",
      "1.0    0.0    0.0    \n",
      "\n",
      "0.0    1.0    0.0    \n",
      "\n",
      "0.0    0.0    1.0    \n",
      "\n",
      "\n"
     ]
    }
   ],
   "source": [
    "C2 = [[0,2,1],[4,0,1],[-1,2,0]]    # matrix\n",
    "C = [[0,2,1, 1,0,0],[4,0,1, 0,1,0],[-1,2,0, 0,0,1]]    # augmented matrix\n",
    "print(\"The augmented matrix is: \")\n",
    "print_matrix(C,3,6)\n",
    "GJ, d=gauss_jordan(C,3,6)\n",
    "if GJ!=None:\n",
    "    # Finding the inverse and printing in rounded form\n",
    "    # Multiply the matrices to verify if it is identity and then rounding at the end\n",
    "    M=get_inv(C,3)\n",
    "    MM,k,l=matrix_multiply(M,3,3,C2,3,3)\n",
    "    M=round_matrix(M,2)\n",
    "    print(\"The inverse matrix is: \")\n",
    "    print_matrix(M,3,3)\n",
    "    print(\"Verification: \")\n",
    "    MM=round_matrix(MM,2)\n",
    "    print_matrix(MM,3,3)\n",
    "else:\n",
    "    print(\"No unique solution exists.\")"
   ]
  },
  {
   "cell_type": "code",
   "execution_count": 7,
   "id": "afe97da9",
   "metadata": {},
   "outputs": [
    {
     "name": "stdout",
     "output_type": "stream",
     "text": [
      "The augmented matrix is: \n",
      "\n",
      "1    4    2    3    1    0    0    0    \n",
      "\n",
      "0    1    4    4    0    1    0    0    \n",
      "\n",
      "-1    0    1    0    0    0    1    0    \n",
      "\n",
      "2    0    4    1    0    0    0    1    \n",
      "\n",
      "\n",
      "Determinant of the matrix = 65.0\n"
     ]
    }
   ],
   "source": [
    "D = [[1,4,2,3, 1,0,0,0],[0,1,4,4, 0,1,0,0],[-1,0,1,0, 0,0,1,0],[2,0,4,1, 0,0,0,1]]\n",
    "print(\"The augmented matrix is: \")\n",
    "print_matrix(D,4,8)\n",
    "GJ, d=gauss_jordan(D,4,8)\n",
    "if GJ!=None:\n",
    "    print(\"Determinant of the matrix = \",end='')\n",
    "    print(round(d,4))\n",
    "else:\n",
    "    print(\"No unique solution exists.\")"
   ]
  }
 ],
 "metadata": {
  "kernelspec": {
   "display_name": "Python 3",
   "language": "python",
   "name": "python3"
  },
  "language_info": {
   "codemirror_mode": {
    "name": "ipython",
    "version": 3
   },
   "file_extension": ".py",
   "mimetype": "text/x-python",
   "name": "python",
   "nbconvert_exporter": "python",
   "pygments_lexer": "ipython3",
   "version": "3.8.8"
  }
 },
 "nbformat": 4,
 "nbformat_minor": 5
}
